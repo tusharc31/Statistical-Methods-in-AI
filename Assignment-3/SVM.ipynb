{
  "nbformat": 4,
  "nbformat_minor": 0,
  "metadata": {
    "colab": {
      "name": "SVM.ipynb",
      "provenance": [],
      "collapsed_sections": []
    },
    "kernelspec": {
      "display_name": "Python 3",
      "language": "python",
      "name": "python3"
    },
    "language_info": {
      "codemirror_mode": {
        "name": "ipython",
        "version": 3
      },
      "file_extension": ".py",
      "mimetype": "text/x-python",
      "name": "python",
      "nbconvert_exporter": "python",
      "pygments_lexer": "ipython3",
      "version": "3.8.8"
    }
  },
  "cells": [
    {
      "cell_type": "markdown",
      "metadata": {
        "id": "KFqwgxfkI9qG"
      },
      "source": [
        "# Support Vector Machines\n",
        "\n",
        "In this section of the assignment, you will get to implement Support Vector Machines which are among the best (and many believe are indeed the best) “off-the-shelf” supervised learning algorithm.\n",
        "\n",
        "This section is further divided into 3 subsections.\n",
        "\n",
        "\n",
        "*   In the first subsection, you will work on a synthetic dataset and visualize the boundary predicted by SVM. You will also vary the value of C-parameter and see how the decision boundary changes. **Please note that you cannot use inbuilt sklearn function for SVM in this sub-section**. You can only use a QCQP (Quadratically Constrained Quadratic Program) solver like CVXPY. \n",
        "\n",
        "  References which you may find helpful for this subsection: \n",
        "  \n",
        "  1.   https://www.cvxpy.org/\n",
        "  2.   https://www.cvxpy.org/examples/basic/quadratic_program.html\n",
        "\n",
        "  Note that in this section you are expected to show how you derived the Quadratically Constrained form(which can be passed into the solver) from the basic principles of SVM algorithm\n",
        "*  In the next subsection you will use be using the famous MNIST dataset to explore various kernels and report the results. **Please note you may use inbuilt sklearn SVM functions in this subsection**\n"
      ]
    },
    {
      "cell_type": "code",
      "metadata": {
        "id": "Ub9ArRIDI9qR",
        "colab": {
          "base_uri": "https://localhost:8080/"
        },
        "outputId": "5d452d26-3246-4531-baf3-7ea7632ba736"
      },
      "source": [
        "!pip install numpy\n",
        "!pip install matplotlib\n",
        "!pip install cvxpy\n",
        "import numpy as np\n",
        "import cvxpy as cp\n",
        "import matplotlib.pyplot as plt\n",
        "%matplotlib inline"
      ],
      "execution_count": 1,
      "outputs": [
        {
          "output_type": "stream",
          "name": "stdout",
          "text": [
            "Requirement already satisfied: numpy in /usr/local/lib/python3.7/dist-packages (1.19.5)\n",
            "Requirement already satisfied: matplotlib in /usr/local/lib/python3.7/dist-packages (3.2.2)\n",
            "Requirement already satisfied: cycler>=0.10 in /usr/local/lib/python3.7/dist-packages (from matplotlib) (0.11.0)\n",
            "Requirement already satisfied: numpy>=1.11 in /usr/local/lib/python3.7/dist-packages (from matplotlib) (1.19.5)\n",
            "Requirement already satisfied: python-dateutil>=2.1 in /usr/local/lib/python3.7/dist-packages (from matplotlib) (2.8.2)\n",
            "Requirement already satisfied: pyparsing!=2.0.4,!=2.1.2,!=2.1.6,>=2.0.1 in /usr/local/lib/python3.7/dist-packages (from matplotlib) (3.0.6)\n",
            "Requirement already satisfied: kiwisolver>=1.0.1 in /usr/local/lib/python3.7/dist-packages (from matplotlib) (1.3.2)\n",
            "Requirement already satisfied: six>=1.5 in /usr/local/lib/python3.7/dist-packages (from python-dateutil>=2.1->matplotlib) (1.15.0)\n",
            "Requirement already satisfied: cvxpy in /usr/local/lib/python3.7/dist-packages (1.0.31)\n",
            "Requirement already satisfied: osqp>=0.4.1 in /usr/local/lib/python3.7/dist-packages (from cvxpy) (0.6.2.post0)\n",
            "Requirement already satisfied: scs>=1.1.3 in /usr/local/lib/python3.7/dist-packages (from cvxpy) (2.1.4)\n",
            "Requirement already satisfied: scipy>=1.1.0 in /usr/local/lib/python3.7/dist-packages (from cvxpy) (1.4.1)\n",
            "Requirement already satisfied: numpy>=1.15 in /usr/local/lib/python3.7/dist-packages (from cvxpy) (1.19.5)\n",
            "Requirement already satisfied: multiprocess in /usr/local/lib/python3.7/dist-packages (from cvxpy) (0.70.12.2)\n",
            "Requirement already satisfied: ecos>=2 in /usr/local/lib/python3.7/dist-packages (from cvxpy) (2.0.7.post1)\n",
            "Requirement already satisfied: qdldl in /usr/local/lib/python3.7/dist-packages (from osqp>=0.4.1->cvxpy) (0.1.5.post0)\n",
            "Requirement already satisfied: dill>=0.3.4 in /usr/local/lib/python3.7/dist-packages (from multiprocess->cvxpy) (0.3.4)\n"
          ]
        }
      ]
    },
    {
      "cell_type": "markdown",
      "metadata": {
        "id": "GasJBLV5I9qf"
      },
      "source": [
        "### Subsection 1"
      ]
    },
    {
      "cell_type": "code",
      "metadata": {
        "id": "eulkE0pTI9qg"
      },
      "source": [
        "# Feel free to use this helper function to visualize 2D points X with labels +1 or -1\n",
        "def plot_points(X, Y):\n",
        "    reds = []\n",
        "    blues = []\n",
        "    for i in range(Y.shape[0]):\n",
        "        if Y[i] == 1:\n",
        "            reds.append(X[i])\n",
        "        else:\n",
        "            blues.append(X[i])\n",
        "    reds = np.array(reds)\n",
        "    blues = np.array(blues)\n",
        "    plt.scatter(reds[:, 0], reds[:, 1], c = 'r')\n",
        "    plt.scatter(blues[:, 0], blues[:, 1], c = 'b')"
      ],
      "execution_count": 2,
      "outputs": []
    },
    {
      "cell_type": "code",
      "metadata": {
        "id": "rpWOqtHjI9qi",
        "colab": {
          "base_uri": "https://localhost:8080/",
          "height": 265
        },
        "outputId": "2f32bfdb-d64b-4855-cf2c-81fe05cc87cc"
      },
      "source": [
        "# Create Synthetic Data and visualize the points\n",
        "X = np.array([[-3.5, -1], [-3, 0], [-3, 1], [-2.7, -1.3], [-2, -1], [-2, -2.7], \n",
        "              [-1, -2.5], [0, -3], [-1.1, 0], [0, 2.5], [1, 2], [0.7, 4], \n",
        "              [2.1, 0.2], [2.3, 1], [2.8, 1.8], [2.2, 2.8]])\n",
        "Y = np.array([1, 1, 1, 1, 1, 1, 1, 1, -1, -1, -1, -1, -1, -1, -1, -1])\n",
        "\n",
        "plot_points(X, Y)\n",
        "plt.show()"
      ],
      "execution_count": 3,
      "outputs": [
        {
          "output_type": "display_data",
          "data": {
            "image/png": "[encoded data removed]",
            "text/plain": [
              "<Figure size 432x288 with 1 Axes>"
            ]
          },
          "metadata": {
            "needs_background": "light"
          }
        }
      ]
    },
    {
      "cell_type": "markdown",
      "metadata": {
        "id": "qkXWnVMuI9qk"
      },
      "source": [
        "In the next cell you are required to derive the Quadratic Constrained Quadratic form of SVM **without soft constraints** from the basic principles. Start with the idea that SVM tries to maximize the margin and then derive the form which you can feed to the solver.\n",
        "\n",
        "Please print the values of w, b. \n",
        "\n",
        "**Note: You are also required to upload a page of the derivation. You may also type it in markdown here.**\n",
        "\n",
        "**Note: You cannot use sklearn SVM functions here.**"
      ]
    },
    {
      "cell_type": "markdown",
      "metadata": {
        "id": "0NHhwQvx6oh_"
      },
      "source": [
        "**Answer to theory question:   \n",
        "Added the solution for this in a separate PDF.**"
      ]
    },
    {
      "cell_type": "code",
      "metadata": {
        "id": "cL-jVJH8I9ql",
        "colab": {
          "base_uri": "https://localhost:8080/"
        },
        "outputId": "5fffdd60-3388-4cd5-fd42-ff153d77d25a"
      },
      "source": [
        "# Write your code here\n",
        "parameters = []\n",
        "def svm():\n",
        "  global parameters\n",
        "  P = [[1, .0, .0], [.0, 1, .0], [.0, .0, .0]]\n",
        "  X_rows = X.shape[0]\n",
        "  augmented_X = np.hstack((X, np.ones((X_rows,1))))\n",
        "  var = cp.Variable(3)\n",
        "  prob = cp.Problem(cp.Minimize(cp.quad_form(var, P)) * 0.5, [(y*(x.T@var)) >= 1 for y, x in zip(Y, augmented_X)])\n",
        "  prob.solve()\n",
        "  print(\"Value of w = \", var.value[:2])\n",
        "  print(\"Value of b = \", var.value[2])\n",
        "  parameters = var.value\n",
        "svm()"
      ],
      "execution_count": 4,
      "outputs": [
        {
          "output_type": "stream",
          "name": "stdout",
          "text": [
            "Value of w =  [-1.73913043 -1.30434783]\n",
            "Value of b =  -2.91304347826087\n"
          ]
        }
      ]
    },
    {
      "cell_type": "markdown",
      "metadata": {
        "id": "E1qoXcdDI9qm"
      },
      "source": [
        "In the next cell you are required to visualize the boundary predicted by the solver. You may want to revise up on how to plot the a line given w, b. Please plot w vector as well as the margin lines\n",
        "\n",
        "You may want to create a function to plot the line of separation as you would require this frequently in the subsequent parts of the assignment."
      ]
    },
    {
      "cell_type": "code",
      "metadata": {
        "id": "X3271BtYI9qo"
      },
      "source": [
        "# Write your code here\n",
        "def plot_decision_boundary():\n",
        "  axes = plt.gca()\n",
        "  slope = -parameters[0]/parameters[1]\n",
        "  intercept = -parameters[2]/parameters[1]\n",
        "  x_vals = np.array(axes.get_xlim())\n",
        "  plt.plot(x_vals, intercept + slope * x_vals)"
      ],
      "execution_count": 5,
      "outputs": []
    },
    {
      "cell_type": "code",
      "metadata": {
        "colab": {
          "base_uri": "https://localhost:8080/",
          "height": 265
        },
        "id": "PB8FiJoiQ4T_",
        "outputId": "0c2fb863-04be-4bf4-beca-63835186c7d0"
      },
      "source": [
        "plot_points(X, Y)\n",
        "plot_decision_boundary()\n",
        "plt.show()"
      ],
      "execution_count": 6,
      "outputs": [
        {
          "output_type": "display_data",
          "data": {
            "image/png": "[encoded data removed]",
            "text/plain": [
              "<Figure size 432x288 with 1 Axes>"
            ]
          },
          "metadata": {
            "needs_background": "light"
          }
        }
      ]
    },
    {
      "cell_type": "markdown",
      "metadata": {
        "id": "NnSqBDqqI9qp"
      },
      "source": [
        "In the next cell please plot only the support vectors along with the boundary, w vector, and margins. \n",
        "\n",
        "**Note: You are not supposed to hard-code the points here.**"
      ]
    },
    {
      "cell_type": "code",
      "metadata": {
        "id": "wPBNQB-DI9qq",
        "colab": {
          "base_uri": "https://localhost:8080/",
          "height": 265
        },
        "outputId": "372211fe-5193-4e0f-89c5-d2b04bc2dda6"
      },
      "source": [
        "def gutter_points():\n",
        "  gutterx = []\n",
        "  guttery = []\n",
        "  X_rows = X.shape[0]\n",
        "  augmented_X = np.hstack((X, np.ones((X_rows,1))))\n",
        "  for (x, y) in zip(augmented_X, Y):\n",
        "    if np.isclose(x.T@parameters, +1) or np.isclose(x.T@parameters, -1):  # these points will be +1 or -1 away\n",
        "      gutterx.append(x[:2])\n",
        "      guttery.append(y)\n",
        "  gutterx = np.array(gutterx)\n",
        "  guttery = np.array(guttery)\n",
        "  return gutterx, guttery\n",
        "\n",
        "def plot_support_margins():\n",
        "  # margins differ by constant of 1 and -1. \n",
        "  # So I added 1, then subtracted 2, and then reset the bias.\n",
        "  parameters[2] = parameters[2]-1\n",
        "  plot_decision_boundary()\n",
        "  parameters[2] = parameters[2]+2\n",
        "  plot_decision_boundary()\n",
        "  parameters[2] = parameters[2]-1\n",
        "\n",
        "plot_points(*gutter_points())\n",
        "plot_support_margins()"
      ],
      "execution_count": 7,
      "outputs": [
        {
          "output_type": "display_data",
          "data": {
            "image/png": "[encoded data removed]",
            "text/plain": [
              "<Figure size 432x288 with 1 Axes>"
            ]
          },
          "metadata": {
            "needs_background": "light"
          }
        }
      ]
    },
    {
      "cell_type": "markdown",
      "metadata": {
        "id": "x0Kso1FfI9qs"
      },
      "source": [
        "In the next cell add the following points:\n",
        "* (-4, -10) with label 1\n",
        "* (4, 4) with label -1\n",
        "\n",
        "Is the decision boundary changed after adding the points? Explain your observations theoretically."
      ]
    },
    {
      "cell_type": "code",
      "metadata": {
        "id": "m4V4ea1-I9qs",
        "colab": {
          "base_uri": "https://localhost:8080/"
        },
        "outputId": "22b52252-23d6-4b99-9919-0f4d122a2688"
      },
      "source": [
        "# Re-create the Synthetic Data by adding the points and visualize the points\n",
        "X = np.append(X, [[-4, -10], [4, 4]], axis = 0)\n",
        "Y = np.append(Y, [1, -1], axis = 0)\n",
        "print(\"Updated X is:\")\n",
        "print(X)\n",
        "print(\"Updated y is\")\n",
        "print(Y)"
      ],
      "execution_count": 8,
      "outputs": [
        {
          "output_type": "stream",
          "name": "stdout",
          "text": [
            "Updated X is:\n",
            "[[ -3.5  -1. ]\n",
            " [ -3.    0. ]\n",
            " [ -3.    1. ]\n",
            " [ -2.7  -1.3]\n",
            " [ -2.   -1. ]\n",
            " [ -2.   -2.7]\n",
            " [ -1.   -2.5]\n",
            " [  0.   -3. ]\n",
            " [ -1.1   0. ]\n",
            " [  0.    2.5]\n",
            " [  1.    2. ]\n",
            " [  0.7   4. ]\n",
            " [  2.1   0.2]\n",
            " [  2.3   1. ]\n",
            " [  2.8   1.8]\n",
            " [  2.2   2.8]\n",
            " [ -4.  -10. ]\n",
            " [  4.    4. ]]\n",
            "Updated y is\n",
            "[ 1  1  1  1  1  1  1  1 -1 -1 -1 -1 -1 -1 -1 -1  1 -1]\n"
          ]
        }
      ]
    },
    {
      "cell_type": "code",
      "metadata": {
        "id": "sW93Z-FiI9qt",
        "colab": {
          "base_uri": "https://localhost:8080/",
          "height": 300
        },
        "outputId": "83890c81-99d7-4504-913f-3bbc5f8feb23"
      },
      "source": [
        "# Solve for the decision boundary using this modified dataset\n",
        "svm()\n",
        "plot_points(X, Y)\n",
        "plot_support_margins()\n",
        "plot_decision_boundary()\n",
        "plt.show()"
      ],
      "execution_count": 9,
      "outputs": [
        {
          "output_type": "stream",
          "name": "stdout",
          "text": [
            "Value of w =  [-1.73913043 -1.30434783]\n",
            "Value of b =  -2.9130434782608705\n"
          ]
        },
        {
          "output_type": "display_data",
          "data": {
            "image/png": "[encoded data removed]",
            "text/plain": [
              "<Figure size 432x288 with 1 Axes>"
            ]
          },
          "metadata": {
            "needs_background": "light"
          }
        }
      ]
    },
    {
      "cell_type": "markdown",
      "metadata": {
        "id": "AiepQDo3I9qu"
      },
      "source": [
        "In the next cell you are required to modify your framing of optimisation problem to incorporate soft constraints also known as slack. Plot the decision boundary, w and margin lines for various values of C: $0.01$, $0.1$, $3$, $10$, $100$.\n",
        "\n",
        "Explain your results theoretically. How does the boundary change with varying values of C? Why?\n",
        "\n",
        "**Note: Use the modified X and y i.e after adding points in previous cell.**"
      ]
    },
    {
      "cell_type": "code",
      "metadata": {
        "id": "TVEix42nI9qu",
        "colab": {
          "base_uri": "https://localhost:8080/",
          "height": 317
        },
        "outputId": "0804ae9f-c10c-4cd6-c9f0-61a11ee3e0ac"
      },
      "source": [
        "# Write your code here for C= 0.01\n",
        "def svm_softconstraints(C):\n",
        "  global parameters\n",
        "  print(\"Running for C = \", C)\n",
        "  P = [[1, .0, .0], [.0, 1, .0], [.0, .0, .0]]\n",
        "  P = np.array(P)\n",
        "  X_rows = X.shape[0]\n",
        "  augmented_X = np.hstack((X, np.ones((X_rows,1))))\n",
        "  var = cp.Variable(3)\n",
        "  Xaug_rows = augmented_X.shape[0]\n",
        "  temp = cp.Variable(Xaug_rows)\n",
        "  prob = cp.Problem(cp.Minimize((1/2)*cp.quad_form(var, P) + C*cp.sum(temp)),\n",
        "                 [(y*(x.T@var)) >= (1-temp[i]) for y, x, i in zip(Y, augmented_X, range(augmented_X.shape[0]))] + [temp[i]>=0 for  i in range(augmented_X.shape[0])])\n",
        "  prob.solve()\n",
        "  print(\"Value of w = \", var.value[:2])\n",
        "  print(\"Value of b = \", var.value[2])\n",
        "  parameters  = var.value\n",
        "\n",
        "C = 0.01\n",
        "svm_softconstraints(C)\n",
        "plot_points(X, Y)\n",
        "plot_decision_boundary()\n",
        "plt.show()"
      ],
      "execution_count": 10,
      "outputs": [
        {
          "output_type": "stream",
          "name": "stdout",
          "text": [
            "Running for C =  0.01\n",
            "Value of w =  [-0.22506809 -0.19858949]\n",
            "Value of b =  0.013672178988326457\n"
          ]
        },
        {
          "output_type": "display_data",
          "data": {
            "image/png": "[encoded data removed]",
            "text/plain": [
              "<Figure size 432x288 with 1 Axes>"
            ]
          },
          "metadata": {
            "needs_background": "light"
          }
        }
      ]
    },
    {
      "cell_type": "code",
      "metadata": {
        "id": "f8tdPNMAI9qv",
        "colab": {
          "base_uri": "https://localhost:8080/",
          "height": 317
        },
        "outputId": "9e923710-0be2-459e-8aff-5dbbd143bf23"
      },
      "source": [
        "# Write your code here for C= 0.1\n",
        "C = 0.1\n",
        "svm_softconstraints(C)\n",
        "plot_points(X, Y)\n",
        "plot_decision_boundary()\n",
        "plt.show()"
      ],
      "execution_count": 11,
      "outputs": [
        {
          "output_type": "stream",
          "name": "stdout",
          "text": [
            "Running for C =  0.1\n",
            "Value of w =  [-0.38493724 -0.35146444]\n",
            "Value of b =  -0.12133891213389113\n"
          ]
        },
        {
          "output_type": "display_data",
          "data": {
            "image/png": "[encoded data removed]",
            "text/plain": [
              "<Figure size 432x288 with 1 Axes>"
            ]
          },
          "metadata": {
            "needs_background": "light"
          }
        }
      ]
    },
    {
      "cell_type": "code",
      "metadata": {
        "id": "Xf5hfxRRI9qw",
        "colab": {
          "base_uri": "https://localhost:8080/",
          "height": 317
        },
        "outputId": "4f6d5221-1a3c-4cf8-9523-ca2cb6c92c30"
      },
      "source": [
        "# Write your code here for C= 3\n",
        "C = 3\n",
        "svm_softconstraints(C)\n",
        "plot_points(X, Y)\n",
        "plot_decision_boundary()\n",
        "plt.show()"
      ],
      "execution_count": 12,
      "outputs": [
        {
          "output_type": "stream",
          "name": "stdout",
          "text": [
            "Running for C =  3\n",
            "Value of w =  [-1.73913043 -1.30434783]\n",
            "Value of b =  -2.9130434782608705\n"
          ]
        },
        {
          "output_type": "display_data",
          "data": {
            "image/png": "[encoded data removed]",
            "text/plain": [
              "<Figure size 432x288 with 1 Axes>"
            ]
          },
          "metadata": {
            "needs_background": "light"
          }
        }
      ]
    },
    {
      "cell_type": "code",
      "metadata": {
        "id": "qecGoXdnI9qx",
        "colab": {
          "base_uri": "https://localhost:8080/",
          "height": 317
        },
        "outputId": "596b083e-2d2d-4f82-aa3a-1ed5ee77a55d"
      },
      "source": [
        "# Write your code here for C= 10\n",
        "C = 10\n",
        "svm_softconstraints(C)\n",
        "plot_points(X, Y)\n",
        "plot_decision_boundary()\n",
        "plt.show()"
      ],
      "execution_count": 13,
      "outputs": [
        {
          "output_type": "stream",
          "name": "stdout",
          "text": [
            "Running for C =  10\n",
            "Value of w =  [-1.73913043 -1.30434783]\n",
            "Value of b =  -2.9130434782608705\n"
          ]
        },
        {
          "output_type": "display_data",
          "data": {
            "image/png": "[encoded data removed]",
            "text/plain": [
              "<Figure size 432x288 with 1 Axes>"
            ]
          },
          "metadata": {
            "needs_background": "light"
          }
        }
      ]
    },
    {
      "cell_type": "code",
      "metadata": {
        "id": "cO3_kVe9I9qy",
        "colab": {
          "base_uri": "https://localhost:8080/",
          "height": 317
        },
        "outputId": "73a5bf12-6fa4-4315-8d6f-6d82b9bfd3ee"
      },
      "source": [
        "# Write your code here for C= 100\n",
        "C = 100\n",
        "svm_softconstraints(C)\n",
        "plot_points(X, Y)\n",
        "plot_decision_boundary()\n",
        "plt.show()"
      ],
      "execution_count": 14,
      "outputs": [
        {
          "output_type": "stream",
          "name": "stdout",
          "text": [
            "Running for C =  100\n",
            "Value of w =  [-1.73913043 -1.30434783]\n",
            "Value of b =  -2.913043478260871\n"
          ]
        },
        {
          "output_type": "display_data",
          "data": {
            "image/png": "[encoded data removed]",
            "text/plain": [
              "<Figure size 432x288 with 1 Axes>"
            ]
          },
          "metadata": {
            "needs_background": "light"
          }
        }
      ]
    },
    {
      "cell_type": "markdown",
      "metadata": {
        "id": "K7crSrYuI9qy"
      },
      "source": [
        "Take the case of C = 100 and remove the support vectors. Does the boundary change after the deletion?\n",
        "Explain why? Show your results by appropriate plots?"
      ]
    },
    {
      "cell_type": "markdown",
      "metadata": {
        "id": "4fzP3ZEk5oaB"
      },
      "source": [
        "Yes the decision boundary changes. In the code for qcqp program, the distance between the 2 margins ($w.x+b=1$ and $w.x +b = -1$) is maximized. When C=100, then any error is punished heavily due to which this program can be considered to be hard-margined. We want to maximize the distance between the two margins while making sure that points are on the correct side of margins. **So when support vectors are removed there is space for the margins to go due to which the line changes.**"
      ]
    },
    {
      "cell_type": "code",
      "metadata": {
        "id": "DxC0xdsEI9qz",
        "colab": {
          "base_uri": "https://localhost:8080/",
          "height": 317
        },
        "outputId": "e7080317-46aa-4d2e-ef56-466f79495eef"
      },
      "source": [
        "def remove_support_vectors():\n",
        "  global X,Y\n",
        "  ls = []\n",
        "  X_rows = X.shape[0]\n",
        "  augmented_X = np.hstack((X, np.ones((X_rows,1))))\n",
        "  for (x, y, i) in zip(augmented_X, Y, range(augmented_X.shape[0])):\n",
        "    if np.isclose(x.T@parameters, 1) or np.isclose(x.T@parameters, -1): # these points are +1 and -1 away, find them and delete them\n",
        "      ls.append(i)\n",
        "  X = np.delete(X, ls, axis=0)\n",
        "  Y = np.delete(Y, ls, axis=0)\n",
        "\n",
        "remove_support_vectors()\n",
        "svm_softconstraints(100)\n",
        "plot_points(X, Y)\n",
        "plot_decision_boundary()\n",
        "plt.show()"
      ],
      "execution_count": 15,
      "outputs": [
        {
          "output_type": "stream",
          "name": "stdout",
          "text": [
            "Running for C =  100\n",
            "Value of w =  [-0.38493724 -0.35146444]\n",
            "Value of b =  -0.12133891213389121\n"
          ]
        },
        {
          "output_type": "display_data",
          "data": {
            "image/png": "[encoded data removed]",
            "text/plain": [
              "<Figure size 432x288 with 1 Axes>"
            ]
          },
          "metadata": {
            "needs_background": "light"
          }
        }
      ]
    },
    {
      "cell_type": "markdown",
      "metadata": {
        "id": "7goMP4wFI9q0"
      },
      "source": [
        "### Subsection 2"
      ]
    },
    {
      "cell_type": "code",
      "metadata": {
        "id": "PZdBRpHuI9q0",
        "colab": {
          "base_uri": "https://localhost:8080/"
        },
        "outputId": "cd53d924-c293-437f-dd85-c556eb7baf79"
      },
      "source": [
        "!pip install python-mnist\n",
        "!rm -rf samples\n",
        "!mkdir samples\n",
        "!wget http://yann.lecun.com/exdb/mnist/train-images-idx3-ubyte.gz -P samples/\n",
        "!gunzip samples/train-images-idx3-ubyte.gz\n",
        "!wget http://yann.lecun.com/exdb/mnist/train-labels-idx1-ubyte.gz -P samples/\n",
        "!gunzip samples/train-labels-idx1-ubyte.gz\n",
        "!wget http://yann.lecun.com/exdb/mnist/t10k-images-idx3-ubyte.gz -P samples/\n",
        "!gunzip samples/t10k-images-idx3-ubyte.gz\n",
        "!wget http://yann.lecun.com/exdb/mnist/t10k-labels-idx1-ubyte.gz -P samples/\n",
        "!gunzip samples/t10k-labels-idx1-ubyte.gz"
      ],
      "execution_count": 16,
      "outputs": [
        {
          "output_type": "stream",
          "name": "stdout",
          "text": [
            "Requirement already satisfied: python-mnist in /usr/local/lib/python3.7/dist-packages (0.7)\n",
            "--2021-12-04 18:20:43--  http://yann.lecun.com/exdb/mnist/train-images-idx3-ubyte.gz\n",
            "Resolving yann.lecun.com (yann.lecun.com)... 104.21.29.36, 172.67.171.76, 2606:4700:3034::6815:1d24, ...\n",
            "Connecting to yann.lecun.com (yann.lecun.com)|104.21.29.36|:80... connected.\n",
            "HTTP request sent, awaiting response... 200 OK\n",
            "Length: 9912422 (9.5M) [application/x-gzip]\n",
            "Saving to: ‘samples/train-images-idx3-ubyte.gz’\n",
            "\n",
            "train-images-idx3-u 100%[===================>]   9.45M  --.-KB/s    in 0.04s   \n",
            "\n",
            "2021-12-04 18:20:43 (214 MB/s) - ‘samples/train-images-idx3-ubyte.gz’ saved [9912422/9912422]\n",
            "\n",
            "--2021-12-04 18:20:44--  http://yann.lecun.com/exdb/mnist/train-labels-idx1-ubyte.gz\n",
            "Resolving yann.lecun.com (yann.lecun.com)... 104.21.29.36, 172.67.171.76, 2606:4700:3034::6815:1d24, ...\n",
            "Connecting to yann.lecun.com (yann.lecun.com)|104.21.29.36|:80... connected.\n",
            "HTTP request sent, awaiting response... 200 OK\n",
            "Length: 28881 (28K) [application/x-gzip]\n",
            "Saving to: ‘samples/train-labels-idx1-ubyte.gz’\n",
            "\n",
            "train-labels-idx1-u 100%[===================>]  28.20K  --.-KB/s    in 0s      \n",
            "\n",
            "2021-12-04 18:20:44 (347 MB/s) - ‘samples/train-labels-idx1-ubyte.gz’ saved [28881/28881]\n",
            "\n",
            "--2021-12-04 18:20:44--  http://yann.lecun.com/exdb/mnist/t10k-images-idx3-ubyte.gz\n",
            "Resolving yann.lecun.com (yann.lecun.com)... 104.21.29.36, 172.67.171.76, 2606:4700:3034::6815:1d24, ...\n",
            "Connecting to yann.lecun.com (yann.lecun.com)|104.21.29.36|:80... connected.\n",
            "HTTP request sent, awaiting response... 200 OK\n",
            "Length: 1648877 (1.6M) [application/x-gzip]\n",
            "Saving to: ‘samples/t10k-images-idx3-ubyte.gz’\n",
            "\n",
            "t10k-images-idx3-ub 100%[===================>]   1.57M  --.-KB/s    in 0.01s   \n",
            "\n",
            "2021-12-04 18:20:44 (129 MB/s) - ‘samples/t10k-images-idx3-ubyte.gz’ saved [1648877/1648877]\n",
            "\n",
            "--2021-12-04 18:20:44--  http://yann.lecun.com/exdb/mnist/t10k-labels-idx1-ubyte.gz\n",
            "Resolving yann.lecun.com (yann.lecun.com)... 104.21.29.36, 172.67.171.76, 2606:4700:3034::6815:1d24, ...\n",
            "Connecting to yann.lecun.com (yann.lecun.com)|104.21.29.36|:80... connected.\n",
            "HTTP request sent, awaiting response... 200 OK\n",
            "Length: 4542 (4.4K) [application/x-gzip]\n",
            "Saving to: ‘samples/t10k-labels-idx1-ubyte.gz’\n",
            "\n",
            "t10k-labels-idx1-ub 100%[===================>]   4.44K  --.-KB/s    in 0s      \n",
            "\n",
            "2021-12-04 18:20:44 (374 MB/s) - ‘samples/t10k-labels-idx1-ubyte.gz’ saved [4542/4542]\n",
            "\n"
          ]
        }
      ]
    },
    {
      "cell_type": "code",
      "metadata": {
        "id": "0XjsnEzVI9q1"
      },
      "source": [
        "# Import Relevant Packages\n",
        "from sklearn.svm import SVC\n",
        "import numpy as np\n",
        "from mnist.loader import MNIST"
      ],
      "execution_count": 17,
      "outputs": []
    },
    {
      "cell_type": "code",
      "metadata": {
        "id": "WvXDgQXsI9q1",
        "colab": {
          "base_uri": "https://localhost:8080/"
        },
        "outputId": "ee77e047-7d7c-4b47-ec13-c60be34674cd"
      },
      "source": [
        "mndata = MNIST('samples')\n",
        "# Load training dataset\n",
        "images, labels = mndata.load_training()\n",
        "images_train = np.array(images)\n",
        "labels_train = np.array(labels)\n",
        "print(\"Shape of train set images = \", images_train.shape)\n",
        "print(\"Shape of train set labels = \", labels_train.shape)\n",
        "# Load testing dataset\n",
        "images, labels = mndata.load_testing()\n",
        "images_test = np.array(images)\n",
        "labels_test = np.array(labels)\n",
        "print(\"Shape of test set images = \", images_test.shape)\n",
        "print(\"Shape of test set labels = \", labels_test.shape)"
      ],
      "execution_count": 18,
      "outputs": [
        {
          "output_type": "stream",
          "name": "stdout",
          "text": [
            "Shape of train set images =  (60000, 784)\n",
            "Shape of train set labels =  (60000,)\n",
            "Shape of test set images =  (10000, 784)\n",
            "Shape of test set labels =  (10000,)\n"
          ]
        }
      ]
    },
    {
      "cell_type": "markdown",
      "metadata": {
        "id": "N8F6VkaLI9q3"
      },
      "source": [
        "- Tweak different parameters like the C Parameter and gamma parameter of the Linear SVM and report the results.\n",
        "- Experiment different kernels for classification and report the results.\n",
        "\n",
        "Report accuracy score, F1-score, Confusion matrix and any other metrics you feel useful."
      ]
    },
    {
      "cell_type": "code",
      "metadata": {
        "id": "CztJyLokI9q3"
      },
      "source": [
        "## Too much computation. Hence dividing testing data into train and test\n",
        "from sklearn.model_selection import train_test_split\n",
        "X_train, y_train, X_test, y_test = train_test_split(images_test, labels_test)"
      ],
      "execution_count": 19,
      "outputs": []
    },
    {
      "cell_type": "code",
      "metadata": {
        "id": "b0q-dyaF6Bnc"
      },
      "source": [
        "temp = X_test\n",
        "X_test = y_train\n",
        "y_train = temp"
      ],
      "execution_count": 20,
      "outputs": []
    },
    {
      "cell_type": "code",
      "metadata": {
        "id": "lXOFITpK6DNV",
        "colab": {
          "base_uri": "https://localhost:8080/",
          "height": 1000
        },
        "outputId": "4ec2a18e-d333-406a-f2b5-6894a77fb176"
      },
      "source": [
        "import sklearn.metrics\n",
        "x = []\n",
        "y = []\n",
        "\n",
        "for C in range(1, 10):\n",
        "  print(\"\\nRunning for C = \", C)\n",
        "  svm = SVC(C=C, kernel = 'rbf')\n",
        "  svm.fit(X_train, y_train)\n",
        "  y_pred = svm.predict(X_test)\n",
        "  acc = 100*sklearn.metrics.accuracy_score(y_test, y_pred)\n",
        "  print(\"Accuracy: \", acc)\n",
        "  print(\"F1-score:\", sklearn.metrics.f1_score(y_test, y_pred,average = 'weighted'))  \n",
        "  print(\"Confusion Matrix:\")\n",
        "  print(sklearn.metrics.confusion_matrix(y_test, y_pred))\n",
        "  x.append(C)\n",
        "  y.append(acc)\n",
        "\n",
        "plt.plot(x, np.array(y))\n",
        "plt.title('C vs Accuracy')\n",
        "plt.show()"
      ],
      "execution_count": 21,
      "outputs": [
        {
          "output_type": "stream",
          "name": "stdout",
          "text": [
            "\n",
            "Running for C =  1\n",
            "Accuracy:  96.44\n",
            "F1-score: 0.96434274669444\n",
            "Confusion Matrix:\n",
            "[[250   0   0   0   0   0   2   0   1   0]\n",
            " [  0 268   1   0   0   0   0   0   0   0]\n",
            " [  1   0 242   2   1   0   1   3   1   0]\n",
            " [  0   0   3 225   0   3   0   1   2   2]\n",
            " [  0   0   2   0 237   0   2   0   1   7]\n",
            " [  0   2   0   5   1 193   1   0   0   0]\n",
            " [  1   1   0   0   1   1 244   0   1   0]\n",
            " [  0   4   6   0   1   0   0 244   0   6]\n",
            " [  2   0   1   1   3   5   0   2 247   1]\n",
            " [  0   3   0   1   1   0   1   1   0 261]]\n",
            "\n",
            "Running for C =  2\n",
            "Accuracy:  97.0\n",
            "F1-score: 0.9699651593432694\n",
            "Confusion Matrix:\n",
            "[[251   0   0   0   0   0   2   0   0   0]\n",
            " [  0 268   1   0   0   0   0   0   0   0]\n",
            " [  1   0 242   1   0   0   0   4   3   0]\n",
            " [  0   0   2 226   1   4   0   1   0   2]\n",
            " [  0   0   2   0 239   0   2   0   1   5]\n",
            " [  0   2   0   3   0 196   1   0   0   0]\n",
            " [  0   1   0   0   1   1 245   0   1   0]\n",
            " [  0   3   6   0   1   0   0 247   0   4]\n",
            " [  2   0   0   1   2   4   0   1 250   2]\n",
            " [  0   3   0   1   1   0   1   1   0 261]]\n",
            "\n",
            "Running for C =  3\n",
            "Accuracy:  97.11999999999999\n",
            "F1-score: 0.971172531333176\n",
            "Confusion Matrix:\n",
            "[[251   0   0   0   0   0   2   0   0   0]\n",
            " [  0 268   1   0   0   0   0   0   0   0]\n",
            " [  1   0 241   2   0   0   0   4   3   0]\n",
            " [  0   0   1 227   1   4   0   2   0   1]\n",
            " [  0   0   2   0 240   0   2   0   1   4]\n",
            " [  0   2   0   4   0 194   2   0   0   0]\n",
            " [  0   1   0   0   1   1 245   0   1   0]\n",
            " [  0   3   5   0   1   0   0 249   0   3]\n",
            " [  1   0   0   1   1   4   0   1 252   2]\n",
            " [  0   3   0   1   1   0   1   1   0 261]]\n",
            "\n",
            "Running for C =  4\n",
            "Accuracy:  97.16\n",
            "F1-score: 0.9715689115971139\n",
            "Confusion Matrix:\n",
            "[[251   0   0   0   0   0   2   0   0   0]\n",
            " [  0 268   1   0   0   0   0   0   0   0]\n",
            " [  1   0 241   2   0   0   0   4   3   0]\n",
            " [  0   0   0 227   1   4   0   2   1   1]\n",
            " [  0   0   2   0 240   0   2   0   1   4]\n",
            " [  0   2   0   4   0 193   2   0   0   1]\n",
            " [  0   1   0   0   1   1 245   0   1   0]\n",
            " [  0   3   5   0   1   0   0 250   0   2]\n",
            " [  1   0   0   1   1   4   0   1 252   2]\n",
            " [  0   3   0   0   1   0   1   1   0 262]]\n",
            "\n",
            "Running for C =  5\n",
            "Accuracy:  97.11999999999999\n",
            "F1-score: 0.971173794838331\n",
            "Confusion Matrix:\n",
            "[[251   0   0   0   0   0   2   0   0   0]\n",
            " [  0 268   1   0   0   0   0   0   0   0]\n",
            " [  1   0 240   2   0   0   0   5   3   0]\n",
            " [  0   0   1 227   1   4   0   2   0   1]\n",
            " [  0   0   2   0 240   0   2   0   0   5]\n",
            " [  0   2   0   4   0 193   2   0   0   1]\n",
            " [  0   1   0   0   1   1 245   0   1   0]\n",
            " [  0   3   5   0   1   0   0 250   0   2]\n",
            " [  1   0   0   1   1   4   0   1 252   2]\n",
            " [  0   3   0   0   1   0   1   1   0 262]]\n",
            "\n",
            "Running for C =  6\n",
            "Accuracy:  97.16\n",
            "F1-score: 0.9715774098224927\n",
            "Confusion Matrix:\n",
            "[[251   0   0   0   0   0   2   0   0   0]\n",
            " [  0 268   1   0   0   0   0   0   0   0]\n",
            " [  1   0 240   2   0   0   0   5   3   0]\n",
            " [  0   0   1 227   1   4   0   2   0   1]\n",
            " [  0   0   2   0 241   0   2   0   0   4]\n",
            " [  0   2   0   4   0 193   2   0   0   1]\n",
            " [  0   1   0   0   1   1 245   0   1   0]\n",
            " [  0   2   5   0   1   0   0 251   0   2]\n",
            " [  1   0   0   1   1   4   0   1 252   2]\n",
            " [  0   3   0   0   1   0   1   2   0 261]]\n",
            "\n",
            "Running for C =  7\n",
            "Accuracy:  97.11999999999999\n",
            "F1-score: 0.9711770911356041\n",
            "Confusion Matrix:\n",
            "[[251   0   0   0   0   0   2   0   0   0]\n",
            " [  0 268   1   0   0   0   0   0   0   0]\n",
            " [  1   0 240   2   0   0   0   5   3   0]\n",
            " [  0   0   1 227   1   4   0   2   0   1]\n",
            " [  0   0   2   0 241   0   2   0   0   4]\n",
            " [  0   2   0   4   0 193   2   0   0   1]\n",
            " [  0   1   0   0   1   1 245   0   1   0]\n",
            " [  0   2   5   0   1   0   0 250   0   3]\n",
            " [  1   0   0   1   1   4   0   1 252   2]\n",
            " [  0   3   0   0   1   0   1   2   0 261]]\n",
            "\n",
            "Running for C =  8\n",
            "Accuracy:  97.11999999999999\n",
            "F1-score: 0.9711770911356041\n",
            "Confusion Matrix:\n",
            "[[251   0   0   0   0   0   2   0   0   0]\n",
            " [  0 268   1   0   0   0   0   0   0   0]\n",
            " [  1   0 240   2   0   0   0   5   3   0]\n",
            " [  0   0   1 227   1   4   0   2   0   1]\n",
            " [  0   0   2   0 241   0   2   0   0   4]\n",
            " [  0   2   0   4   0 193   2   0   0   1]\n",
            " [  0   1   0   0   1   1 245   0   1   0]\n",
            " [  0   2   5   0   1   0   0 250   0   3]\n",
            " [  1   0   0   1   1   4   0   1 252   2]\n",
            " [  0   3   0   0   1   0   1   2   0 261]]\n",
            "\n",
            "Running for C =  9\n",
            "Accuracy:  97.11999999999999\n",
            "F1-score: 0.9711770911356041\n",
            "Confusion Matrix:\n",
            "[[251   0   0   0   0   0   2   0   0   0]\n",
            " [  0 268   1   0   0   0   0   0   0   0]\n",
            " [  1   0 240   2   0   0   0   5   3   0]\n",
            " [  0   0   1 227   1   4   0   2   0   1]\n",
            " [  0   0   2   0 241   0   2   0   0   4]\n",
            " [  0   2   0   4   0 193   2   0   0   1]\n",
            " [  0   1   0   0   1   1 245   0   1   0]\n",
            " [  0   2   5   0   1   0   0 250   0   3]\n",
            " [  1   0   0   1   1   4   0   1 252   2]\n",
            " [  0   3   0   0   1   0   1   2   0 261]]\n"
          ]
        },
        {
          "output_type": "display_data",
          "data": {
            "image/png": "[encoded data removed]",
            "text/plain": [
              "<Figure size 432x288 with 1 Axes>"
            ]
          },
          "metadata": {
            "needs_background": "light"
          }
        }
      ]
    },
    {
      "cell_type": "code",
      "metadata": {
        "colab": {
          "base_uri": "https://localhost:8080/"
        },
        "id": "Qk0hnJf_6MJD",
        "outputId": "d1de5a52-b63a-4b39-cd17-c677a979f69b"
      },
      "source": [
        "for kernel in (\"linear\", \"poly\", \"rbf\"):\n",
        "  print(\"\\nKernel: \", kernel)\n",
        "  svm = SVC(C=C, kernel = kernel)\n",
        "  svm.fit(X_train, y_train)\n",
        "  acc = 100*sklearn.metrics.accuracy_score(y_test, y_pred)\n",
        "  y_pred = svm.predict(X_test)\n",
        "  print(\"Accuracy: \", acc)\n",
        "  print(\"F1-score: \", sklearn.metrics.f1_score(y_test, y_pred,average = 'weighted'))\n",
        "  print(\"Confusion Matrix:\")\n",
        "  print(sklearn.metrics.confusion_matrix(y_test, y_pred))"
      ],
      "execution_count": 22,
      "outputs": [
        {
          "output_type": "stream",
          "name": "stdout",
          "text": [
            "\n",
            "Kernel:  linear\n",
            "Accuracy:  97.11999999999999\n",
            "F1-score:  0.9245427075878996\n",
            "Confusion Matrix:\n",
            "[[246   0   2   0   0   3   2   0   0   0]\n",
            " [  0 266   0   0   0   0   0   0   3   0]\n",
            " [  0   2 231   3   2   1   2   5   4   1]\n",
            " [  0   0   4 220   1   5   0   0   2   4]\n",
            " [  0   0   4   0 231   1   1   1   0  11]\n",
            " [  1   4   2  11   0 169   5   3   2   5]\n",
            " [  2   1   2   1   2   4 236   0   1   0]\n",
            " [  0   3   5   1   4   0   0 239   0   9]\n",
            " [  5   3   6   5   3   5   2   3 230   0]\n",
            " [  0   4   1   3   5   2   1   8   0 244]]\n",
            "\n",
            "Kernel:  poly\n",
            "Accuracy:  92.47999999999999\n",
            "F1-score:  0.9580163960321679\n",
            "Confusion Matrix:\n",
            "[[247   1   1   0   0   1   3   0   0   0]\n",
            " [  0 267   0   0   0   0   0   0   2   0]\n",
            " [  3   2 240   0   0   0   0   4   2   0]\n",
            " [  0   3   0 223   1   4   0   1   2   2]\n",
            " [  0   2   4   0 236   0   1   1   0   5]\n",
            " [  1   3   0   4   0 193   1   0   0   0]\n",
            " [  0   3   1   0   0   1 242   0   1   1]\n",
            " [  0   6   2   1   0   0   0 248   0   4]\n",
            " [  2   1   4   2   3   4   0   1 244   1]\n",
            " [  3   4   0   2   1   0   0   2   1 255]]\n",
            "\n",
            "Kernel:  rbf\n",
            "Accuracy:  95.8\n",
            "F1-score:  0.9711770911356041\n",
            "Confusion Matrix:\n",
            "[[251   0   0   0   0   0   2   0   0   0]\n",
            " [  0 268   1   0   0   0   0   0   0   0]\n",
            " [  1   0 240   2   0   0   0   5   3   0]\n",
            " [  0   0   1 227   1   4   0   2   0   1]\n",
            " [  0   0   2   0 241   0   2   0   0   4]\n",
            " [  0   2   0   4   0 193   2   0   0   1]\n",
            " [  0   1   0   0   1   1 245   0   1   0]\n",
            " [  0   2   5   0   1   0   0 250   0   3]\n",
            " [  1   0   0   1   1   4   0   1 252   2]\n",
            " [  0   3   0   0   1   0   1   2   0 261]]\n"
          ]
        }
      ]
    },
    {
      "cell_type": "code",
      "metadata": {
        "id": "FHlmgX7i6N2X"
      },
      "source": [
        ""
      ],
      "execution_count": 22,
      "outputs": []
    }
  ]
}