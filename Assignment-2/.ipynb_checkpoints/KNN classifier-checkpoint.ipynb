{
 "cells": [
  {
   "cell_type": "markdown",
   "metadata": {},
   "source": [
    "# KNN Classifier"
   ]
  },
  {
   "cell_type": "markdown",
   "metadata": {},
   "source": [
    "### Dataset"
   ]
  },
  {
   "cell_type": "code",
   "execution_count": 1,
   "metadata": {},
   "outputs": [],
   "source": [
    "import numpy as np\n",
    "import pandas as pd\n",
    "from sklearn.model_selection import train_test_split"
   ]
  },
  {
   "cell_type": "code",
   "execution_count": 2,
   "metadata": {},
   "outputs": [],
   "source": [
    "#Load data\n",
    "iris = pd.read_csv('Iris.csv')\n",
    "#data cleaning\n",
    "iris.drop(columns=\"Id\",inplace=True)"
   ]
  },
  {
   "cell_type": "code",
   "execution_count": 3,
   "metadata": {},
   "outputs": [],
   "source": [
    "#features and labels\n",
    "X=iris.iloc[:,0:4].values\n",
    "y=iris.iloc[:,4].values\n",
    "\n",
    "#Train and Test split\n",
    "X_train,X_test,y_train,y_test=train_test_split(X,y,test_size=0.2,random_state=0)"
   ]
  },
  {
   "cell_type": "code",
   "execution_count": 4,
   "metadata": {},
   "outputs": [],
   "source": [
    "class K_nearest_neighbour():\n",
    "    \n",
    "    # Function to initialise K_nearest_neighbour class for given K\n",
    "    def __init__(self, K):\n",
    "        self.K = K\n",
    "        \n",
    "    # Function to fit and prepare model for given training data\n",
    "    def fit(self, X_train, y_train):\n",
    "        self.X_train = X_train\n",
    "        self.y_train = y_train\n",
    "        \n",
    "    # Function to find distance of a test point from all training points\n",
    "    def euclidean_distances(self, X_test):\n",
    "        distances = []\n",
    "        for j in range(X_train.shape[0]):\n",
    "            distances.append(np.sum(np.square(X_test - self.X_train[j])))\n",
    "        return distances\n",
    "    \n",
    "    # Function to find mode of an array\n",
    "    def mode(self, arr):\n",
    "        return max(set(arr), key=arr.tolist().count)\n",
    "    \n",
    "    # Function to get labels for k nearest neighbours based distances\n",
    "    def find_neighbors(self, distances):\n",
    "        inds = [distances.index(x) for x in sorted(distances)]\n",
    "        k_nearest_labels = self.y_train[inds]\n",
    "        k_nearest_labels = k_nearest_labels[:self.K]\n",
    "        return k_nearest_labels\n",
    "    \n",
    "    # Function to predict label for test points\n",
    "    def predict(self, X_test):\n",
    "        \n",
    "        total_correct = 0\n",
    "        total_features = X_test.shape[1]\n",
    "        y_pred = []\n",
    "        \n",
    "        for i in range(X_test.shape[0]):\n",
    "            distances = self.euclidean_distances(X_test[i])\n",
    "            k_nearest_labels = self.find_neighbors(distances)\n",
    "            y_pred.append(self.mode(k_nearest_labels))\n",
    "\n",
    "            if y_test[i] == y_pred[-1]:\n",
    "                total_correct += 1\n",
    "        \n",
    "        accuracy = (total_correct / y_test.shape[0]) * 100\n",
    "        \n",
    "        self.accuracy = accuracy\n",
    "        self.y_pred = y_pred"
   ]
  },
  {
   "cell_type": "code",
   "execution_count": 5,
   "metadata": {
    "scrolled": false
   },
   "outputs": [
    {
     "name": "stdout",
     "output_type": "stream",
     "text": [
      "K Accuracy(out of 100)\n",
      "-----------------------------\n",
      "1 100.0\n",
      "2 96.66666666666667\n",
      "3 96.66666666666667\n",
      "4 96.66666666666667\n",
      "5 96.66666666666667\n",
      "6 96.66666666666667\n",
      "7 100.0\n",
      "8 100.0\n",
      "9 100.0\n",
      "10 100.0\n",
      "11 100.0\n",
      "12 100.0\n",
      "13 100.0\n",
      "14 100.0\n",
      "15 100.0\n",
      "16 100.0\n",
      "17 100.0\n",
      "18 100.0\n",
      "19 100.0\n",
      "20 100.0\n",
      "21 100.0\n",
      "22 100.0\n",
      "23 100.0\n",
      "24 100.0\n",
      "25 100.0\n",
      "26 93.33333333333333\n",
      "27 96.66666666666667\n",
      "28 96.66666666666667\n",
      "29 96.66666666666667\n",
      "30 96.66666666666667\n",
      "31 96.66666666666667\n",
      "32 93.33333333333333\n",
      "33 96.66666666666667\n",
      "34 96.66666666666667\n",
      "35 96.66666666666667\n",
      "36 93.33333333333333\n",
      "37 96.66666666666667\n",
      "38 93.33333333333333\n",
      "39 96.66666666666667\n",
      "40 93.33333333333333\n"
     ]
    }
   ],
   "source": [
    "print(\"K Accuracy(out of 100)\")\n",
    "print(\"-----------------------------\")\n",
    "    \n",
    "for k in range(1,8):\n",
    "    model = K_nearest_neighbour(K=k)\n",
    "    model.fit(X_train, y_train)\n",
    "    model.predict(X_test)\n",
    "    print(k, model.accuracy)\n",
    "    "
   ]
  },
  {
   "cell_type": "code",
   "execution_count": null,
   "metadata": {},
   "outputs": [],
   "source": []
  }
 ],
 "metadata": {
  "kernelspec": {
   "display_name": "Python 3",
   "language": "python",
   "name": "python3"
  },
  "language_info": {
   "codemirror_mode": {
    "name": "ipython",
    "version": 3
   },
   "file_extension": ".py",
   "mimetype": "text/x-python",
   "name": "python",
   "nbconvert_exporter": "python",
   "pygments_lexer": "ipython3",
   "version": "3.8.10"
  }
 },
 "nbformat": 4,
 "nbformat_minor": 5
}
