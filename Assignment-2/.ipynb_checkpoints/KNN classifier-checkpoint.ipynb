{
 "cells": [
  {
   "cell_type": "markdown",
   "metadata": {},
   "source": [
    "# KNN Classifier"
   ]
  },
  {
   "cell_type": "markdown",
   "metadata": {},
   "source": [
    "### Dataset"
   ]
  },
  {
   "cell_type": "code",
   "execution_count": 1,
   "metadata": {},
   "outputs": [],
   "source": [
    "import numpy as np\n",
    "import pandas as pd\n",
    "from sklearn.model_selection import train_test_split"
   ]
  },
  {
   "cell_type": "code",
   "execution_count": 2,
   "metadata": {},
   "outputs": [],
   "source": [
    "#Load data\n",
    "iris = pd.read_csv('Iris.csv')\n",
    "#data cleaning\n",
    "iris.drop(columns=\"Id\",inplace=True)\n",
    "iris"
   ]
  },
  {
   "cell_type": "code",
   "execution_count": 3,
   "metadata": {},
   "outputs": [],
   "source": [
    "#features and labels\n",
    "X=iris.iloc[:,0:4].values\n",
    "y=iris.iloc[:,4].values\n",
    "\n",
    "#Train and Test split\n",
    "X_train,X_test,y_train,y_test=train_test_split(X,y,test_size=0.2,random_state=0)"
   ]
  },
  {
   "cell_type": "code",
   "execution_count": 4,
   "metadata": {},
   "outputs": [],
   "source": [
    "# Utility function to get the mode of a list\n",
    "def mode(arr):\n",
    "    return max(set(arr), key=arr.tolist().count)\n",
    "\n",
    "# Function to implement K nearest neighbor\n",
    "def K_nearest_neighbour(K, X_train, X_test, y_train, y_test):\n",
    "    \n",
    "    total_correct = 0\n",
    "    total_features = len(X_test[0])\n",
    "    \n",
    "    for i in range(len(X_test)):\n",
    "        \n",
    "        distances = []\n",
    "        \n",
    "        for j in range(len(X_train)):\n",
    "            \n",
    "            distance = 0\n",
    "\n",
    "            for k in range(total_features):\n",
    "                distance = distance + (X_test[i][k]-X_train[j][k])**2\n",
    "            \n",
    "            distances.append(distance)\n",
    "            \n",
    "        inds = [distances.index(x) for x in sorted(distances)]\n",
    "        k_nearest_labels = y_train[inds]\n",
    "        k_nearest_labels = k_nearest_labels[:K]\n",
    "        \n",
    "        if y_test[i] == mode(k_nearest_labels):\n",
    "            total_correct = total_correct + 1\n",
    "        \n",
    "    return (total_correct / len(y_test)) * 100"
   ]
  },
  {
   "cell_type": "code",
   "execution_count": 5,
   "metadata": {
    "scrolled": false
   },
   "outputs": [
    {
     "name": "stdout",
     "output_type": "stream",
     "text": [
      "K Accuracy(out of 100)\n",
      "-----------------------------\n",
      "1 100.0\n",
      "2 96.66666666666667\n",
      "3 96.66666666666667\n",
      "4 96.66666666666667\n",
      "5 96.66666666666667\n",
      "6 96.66666666666667\n",
      "7 100.0\n"
     ]
    }
   ],
   "source": [
    "print(\"K Accuracy(out of 100)\")\n",
    "print(\"-----------------------------\")\n",
    "for i in range(1,8):\n",
    "    K = i\n",
    "    accuracy = K_nearest_neighbour(K, X_train, X_test, y_train, y_test)\n",
    "    print(K, accuracy)\n",
    "\n",
    "# clarify distance metric\n",
    "# write as class\n",
    "# variable names\n",
    "# comment the code\n",
    "# make repo on github"
   ]
  }
 ],
 "metadata": {
  "kernelspec": {
   "display_name": "Python 3",
   "language": "python",
   "name": "python3"
  },
  "language_info": {
   "codemirror_mode": {
    "name": "ipython",
    "version": 3
   },
   "file_extension": ".py",
   "mimetype": "text/x-python",
   "name": "python",
   "nbconvert_exporter": "python",
   "pygments_lexer": "ipython3",
   "version": "3.8.10"
  }
 },
 "nbformat": 4,
 "nbformat_minor": 5
}
