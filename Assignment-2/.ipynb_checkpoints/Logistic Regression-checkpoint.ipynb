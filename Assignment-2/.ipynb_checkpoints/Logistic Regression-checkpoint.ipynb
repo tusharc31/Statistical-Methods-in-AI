{
 "cells": [
  {
   "cell_type": "markdown",
   "metadata": {},
   "source": [
    "#  Logistic Regression Using Gradient Descent "
   ]
  },
  {
   "cell_type": "markdown",
   "metadata": {},
   "source": [
    "### Dataset"
   ]
  },
  {
   "cell_type": "code",
   "execution_count": 1,
   "metadata": {},
   "outputs": [],
   "source": [
    "import numpy as np\n",
    "import matplotlib.pyplot as plt"
   ]
  },
  {
   "cell_type": "code",
   "execution_count": 11,
   "metadata": {},
   "outputs": [],
   "source": [
    "from sklearn.datasets import make_blobs\n",
    "X, y =  make_blobs(n_samples=100, centers=[[2,4],[4,2]], random_state=20)"
   ]
  },
  {
   "cell_type": "code",
   "execution_count": 12,
   "metadata": {},
   "outputs": [
    {
     "data": {
      "text/plain": [
       "[<matplotlib.lines.Line2D at 0x7f33faa38730>]"
      ]
     },
     "execution_count": 12,
     "metadata": {},
     "output_type": "execute_result"
    },
    {
     "data": {
      "image/png": "[encoded data removed]",
      "text/plain": [
       "<Figure size 432x288 with 1 Axes>"
      ]
     },
     "metadata": {
      "needs_background": "light"
     },
     "output_type": "display_data"
    }
   ],
   "source": [
    "#Visualize dataset \n",
    "plt.plot(X[:,0][y==0],X[:,1][y==0],'o',color='red')\n",
    "plt.plot(X[:,0][y==1],X[:,1][y==1],'^',color='blue')"
   ]
  },
  {
   "cell_type": "code",
   "execution_count": 4,
   "metadata": {},
   "outputs": [],
   "source": [
    "X = np.hstack((X,np.ones((X.shape[0],1))))"
   ]
  },
  {
   "cell_type": "code",
   "execution_count": 5,
   "metadata": {},
   "outputs": [
    {
     "name": "stdout",
     "output_type": "stream",
     "text": [
      "(100, 3)\n"
     ]
    }
   ],
   "source": [
    "print(X.shape)"
   ]
  },
  {
   "cell_type": "code",
   "execution_count": 6,
   "metadata": {},
   "outputs": [],
   "source": [
    "def sigmoid(x):\n",
    "    return 1 / (1 + np.exp(-x))\n",
    "\n",
    "def jacobian(X, y, weights):\n",
    "    \n",
    "    val = weights @ X.T\n",
    "    sigmoid_val = sigmoid(val)\n",
    "    j = (1/X.shape[0])*np.dot(sigmoid_val-y, X)\n",
    "    return j\n",
    "    "
   ]
  },
  {
   "cell_type": "code",
   "execution_count": 7,
   "metadata": {},
   "outputs": [],
   "source": [
    "def gradient_descent(X, y, learning_rate, max_iterations):\n",
    "    \n",
    "    weights = np.zeros((1, X.shape[1]))\n",
    "    \n",
    "    for _ in range(max_iterations):\n",
    "        \n",
    "        weights = weights - learning_rate * jacobian(X, y, weights)\n",
    "        \n",
    "        if _%500000==0:\n",
    "            print(weights)\n",
    "    \n",
    "    return weights"
   ]
  },
  {
   "cell_type": "code",
   "execution_count": 8,
   "metadata": {
    "scrolled": false
   },
   "outputs": [
    {
     "name": "stdout",
     "output_type": "stream",
     "text": [
      "[[ 0.00056596 -0.00049535  0.        ]]\n",
      "[[ 2.91796887 -1.92867555 -3.40892175]]\n",
      "[[ 3.28777128 -2.01195742 -4.31387054]]\n",
      "[[ 3.43286749 -2.05413627 -4.64056621]]\n",
      "[[ 3.49289587 -2.07278199 -4.7721885 ]]\n",
      "[[ 3.51833728 -2.08087575 -4.82740974]]\n",
      "[[ 3.52923236 -2.0843753  -4.85095945]]\n",
      "[[ 3.53391893 -2.08588671 -4.86107162]]\n",
      "[[ 3.53593874 -2.08653922 -4.86542648]]\n",
      "[[ 3.53680996 -2.08682087 -4.86730428]]\n",
      "[[ 3.53718588 -2.08694244 -4.86811442]]\n",
      "[[ 3.53734811 -2.08699491 -4.86846402]]\n",
      "[[ 3.53741813 -2.08701756 -4.8686149 ]]\n",
      "[[ 3.53744834 -2.08702734 -4.86868001]]\n",
      "[[ 3.53746139 -2.08703156 -4.86870812]]\n",
      "[[ 3.53746702 -2.08703338 -4.86872025]]\n",
      "[[ 3.53746945 -2.08703416 -4.86872548]]\n",
      "[[ 3.53747049 -2.0870345  -4.86872774]]\n",
      "[[ 3.53747095 -2.08703465 -4.86872872]]\n",
      "[[ 3.53747114 -2.08703471 -4.86872914]]\n"
     ]
    }
   ],
   "source": [
    "learning_rate = 0.001\n",
    "max_iterations = 10000000\n",
    "W = gradient_descent(X, y, learning_rate, max_iterations)\n",
    "\n",
    "# [[ 2.07353746 -1.9356646  -0.73612218]]\n",
    "# [[ 2.35894805 -1.91549905 -1.69949903]]"
   ]
  },
  {
   "cell_type": "code",
   "execution_count": 9,
   "metadata": {},
   "outputs": [
    {
     "name": "stdout",
     "output_type": "stream",
     "text": [
      "[ 3.53747123 -2.08703474 -4.86872932]\n"
     ]
    }
   ],
   "source": [
    "W = W[0]\n",
    "print(W)"
   ]
  },
  {
   "cell_type": "code",
   "execution_count": 14,
   "metadata": {},
   "outputs": [
    {
     "data": {
      "image/png": "[encoded data removed]",
      "text/plain": [
       "<Figure size 432x288 with 1 Axes>"
      ]
     },
     "metadata": {
      "needs_background": "light"
     },
     "output_type": "display_data"
    }
   ],
   "source": [
    "def ygg(W, xo):\n",
    "    return (xo*W[0]+W[2])/(-W[1])\n",
    "\n",
    "xo = np.linspace(0, 6, num=50)\n",
    "yo = []\n",
    "\n",
    "for i in xo:\n",
    "    yo.append((i*W[0]+W[2])/(-W[1]))\n",
    "\n",
    "plt.plot(X[:,0][y==0],X[:,1][y==0],'o',color='red')\n",
    "plt.plot(X[:,0][y==1],X[:,1][y==1],'^',color='blue')\n",
    "plt.plot(xo, yo)\n",
    "plt.show()"
   ]
  },
  {
   "cell_type": "code",
   "execution_count": null,
   "metadata": {},
   "outputs": [],
   "source": []
  }
 ],
 "metadata": {
  "kernelspec": {
   "display_name": "Python 3",
   "language": "python",
   "name": "python3"
  },
  "language_info": {
   "codemirror_mode": {
    "name": "ipython",
    "version": 3
   },
   "file_extension": ".py",
   "mimetype": "text/x-python",
   "name": "python",
   "nbconvert_exporter": "python",
   "pygments_lexer": "ipython3",
   "version": "3.8.10"
  }
 },
 "nbformat": 4,
 "nbformat_minor": 5
}
