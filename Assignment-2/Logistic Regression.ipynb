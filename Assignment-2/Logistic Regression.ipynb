{
 "cells": [
  {
   "cell_type": "markdown",
   "id": "35907907",
   "metadata": {},
   "source": [
    "#  Logistic Regression Using Gradient Descent "
   ]
  },
  {
   "cell_type": "markdown",
   "id": "133586e5",
   "metadata": {},
   "source": [
    "### Dataset"
   ]
  },
  {
   "cell_type": "code",
   "execution_count": 1,
   "id": "4e2c8451",
   "metadata": {},
   "outputs": [],
   "source": [
    "import numpy as np\n",
    "import matplotlib.pyplot as plt"
   ]
  },
  {
   "cell_type": "code",
   "execution_count": 2,
   "id": "6fbd03d1",
   "metadata": {},
   "outputs": [],
   "source": [
    "from sklearn.datasets import make_blobs\n",
    "X, y =  make_blobs(n_samples=100, centers=[[2,4],[4,2]], random_state=20)"
   ]
  },
  {
   "cell_type": "code",
   "execution_count": 3,
   "id": "b6a12b65",
   "metadata": {},
   "outputs": [
    {
     "data": {
      "image/png": "[encoded data removed]",
      "text/plain": [
       "<Figure size 432x288 with 1 Axes>"
      ]
     },
     "metadata": {
      "needs_background": "light"
     },
     "output_type": "display_data"
    }
   ],
   "source": [
    "#Visualize dataset \n",
    "plt.plot(X[:,0][y==0],X[:,1][y==0],'o',color='red')\n",
    "plt.plot(X[:,0][y==1],X[:,1][y==1],'^',color='blue')\n",
    "plt.show()"
   ]
  },
  {
   "cell_type": "code",
   "execution_count": 4,
   "id": "13c9b3dd",
   "metadata": {},
   "outputs": [],
   "source": [
    "class logistic_regression():\n",
    "    \n",
    "    # Function to initialise the model\n",
    "    def __init__(self, learning_rate, tolerance, max_iterations):\n",
    "        self.learning_rate = learning_rate\n",
    "        self.tolerance = tolerance\n",
    "        self.max_iterations = max_iterations\n",
    "        \n",
    "    # Function to fit and prepare model for given training data\n",
    "    def fit(self, X, y):\n",
    "        self.X = X\n",
    "        self.y = y\n",
    "        self.costs, self.weights = self.gradient_descent()\n",
    "        \n",
    "    # Utility function to calculate sigmoid value\n",
    "    def sigmoid(self, x):\n",
    "        return 1 / (1 + np.exp(-x))    \n",
    "    \n",
    "    # Utility function to calculate error for logistic regression\n",
    "    def objective(self, n, y, y_pred):\n",
    "        cost = -(1/n)*np.sum(y*np.log(y_pred) + (1-y)*np.log(1-y_pred))\n",
    "        return cost\n",
    "\n",
    "    # Utility function to calculate Jacobian for the loss function\n",
    "    def jacobian(self, X, y, weights, sigmoid_val):\n",
    "        j = (1/X.shape[0])*np.dot(sigmoid_val-y, X)\n",
    "        return j\n",
    "    \n",
    "    # Function to optimise the weights of the model\n",
    "    def gradient_descent(self):\n",
    "        X_train = self.X\n",
    "        X_train = np.hstack((X,np.ones((X_train.shape[0],1))))\n",
    "        weights = np.zeros(X_train.shape[1])\n",
    "        old_weights = np.array(weights)\n",
    "        costs = []\n",
    "\n",
    "        for _ in range(self.max_iterations):\n",
    "            val = weights @ X_train.T\n",
    "            sigmoid_val = self.sigmoid(val)\n",
    "            weights = weights - self.learning_rate * self.jacobian(X_train, y, weights, sigmoid_val)\n",
    "            costs.append(self.objective(X_train.shape[0], y, sigmoid_val))\n",
    "            error = np.sqrt(np.sum(np.square(weights-old_weights))) / weights.shape[0]\n",
    "\n",
    "            if error < self.tolerance:\n",
    "                print('\\nConverged at iteration: '+str(_))\n",
    "                print('Weights obtained are: ', weights)\n",
    "                break\n",
    "\n",
    "            if _%500000==0:\n",
    "                m1 = 'ITERATION: ' + str(_)\n",
    "                m2 = 'COST: ' + str(costs[-1])\n",
    "                print(m1, ' '*(20-len(m1)), m2)\n",
    "\n",
    "            old_weights = np.copy(weights)\n",
    "\n",
    "        return costs, weights\n",
    "    \n",
    "    # Function to calculate accuracy for final parameters\n",
    "    def accuracy(self):\n",
    "        X_train = self.X\n",
    "        X_train = np.hstack((X_train,np.ones((X_train.shape[0],1))))\n",
    "        Z = self.weights @ X_train.T\n",
    "        y_pred = self.sigmoid(Z)\n",
    "        y_pred = y_pred > 0.5\n",
    "        y_pred = np.array(y_pred, dtype = 'int64')\n",
    "        ans = (1 - np.sum(np.absolute(y_pred - self.y))/self.y.shape[0])*100\n",
    "        print('\\nTraining accuracy: ', round(ans, 2), \"%\\n\")\n",
    "\n",
    "    # Function to plot cost vs iteration graph\n",
    "    def training_error(self):\n",
    "        plt.plot(self.costs)\n",
    "        plt.xlabel('Iterations')\n",
    "        plt.ylabel('Cost')\n",
    "        plt.title('Cost vs Iterations')\n",
    "        plt.show()\n",
    "    \n",
    "    # Function to plot data points and decision boundary\n",
    "    def model_plot(self):\n",
    "        x_scatter = np.linspace(0, 6, num=10)\n",
    "        y_scatter = (x_scatter*self.weights[0]+self.weights[2])/-self.weights[1]\n",
    "        plt.plot(self.X[:,0][y==0],self.X[:,1][y==0],'o',color='red')\n",
    "        plt.plot(self.X[:,0][y==1],self.X[:,1][y==1],'^',color='blue')\n",
    "        plt.plot(x_scatter, y_scatter)\n",
    "        plt.xlabel('Feature 1')\n",
    "        plt.ylabel('Feature 2')\n",
    "        plt.title('Decision Boundary')\n",
    "        plt.show()\n",
    "        \n",
    "    # Function to get statistics of the model\n",
    "    def statistics(self):\n",
    "        self.accuracy()\n",
    "        self.training_error()\n",
    "        self.model_plot()"
   ]
  },
  {
   "cell_type": "code",
   "execution_count": 5,
   "id": "d0edb51b",
   "metadata": {
    "scrolled": false
   },
   "outputs": [
    {
     "name": "stdout",
     "output_type": "stream",
     "text": [
      "ITERATION: 0          COST: 0.6931471805599453\n",
      "ITERATION: 500000     COST: 0.14312182921730102\n",
      "ITERATION: 1000000    COST: 0.14100992291438208\n",
      "ITERATION: 1500000    COST: 0.1407322713746444\n",
      "\n",
      "Converged at iteration: 1715149\n",
      "Weights obtained are:  [ 3.46510037 -2.06406772 -4.71147969]\n",
      "\n",
      "Training accuracy:  93.0 %\n",
      "\n"
     ]
    },
    {
     "data": {
      "image/png": "[encoded data removed]",
      "text/plain": [
       "<Figure size 432x288 with 1 Axes>"
      ]
     },
     "metadata": {
      "needs_background": "light"
     },
     "output_type": "display_data"
    },
    {
     "data": {
      "image/png": "[encoded data removed]",
      "text/plain": [
       "<Figure size 432x288 with 1 Axes>"
      ]
     },
     "metadata": {
      "needs_background": "light"
     },
     "output_type": "display_data"
    }
   ],
   "source": [
    "model = logistic_regression(learning_rate = 1e-3, tolerance = 1e-7, max_iterations = 10000000)\n",
    "model.fit(X, y)\n",
    "model.statistics()"
   ]
  },
  {
   "cell_type": "code",
   "execution_count": null,
   "id": "3e86729b",
   "metadata": {},
   "outputs": [],
   "source": []
  }
 ],
 "metadata": {
  "kernelspec": {
   "display_name": "Python 3",
   "language": "python",
   "name": "python3"
  },
  "language_info": {
   "codemirror_mode": {
    "name": "ipython",
    "version": 3
   },
   "file_extension": ".py",
   "mimetype": "text/x-python",
   "name": "python",
   "nbconvert_exporter": "python",
   "pygments_lexer": "ipython3",
   "version": "3.8.8"
  }
 },
 "nbformat": 4,
 "nbformat_minor": 5
}
